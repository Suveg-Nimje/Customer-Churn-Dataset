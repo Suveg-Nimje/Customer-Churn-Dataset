{
 "cells": [
  {
   "cell_type": "code",
   "execution_count": 2,
   "id": "bc2098de",
   "metadata": {},
   "outputs": [],
   "source": [
    "import gradio as gr\n",
    "import pickle\n",
    "import warnings\n",
    "warnings.filterwarnings('ignore')"
   ]
  },
  {
   "cell_type": "code",
   "execution_count": 3,
   "id": "47f7a2e2",
   "metadata": {},
   "outputs": [],
   "source": [
    "# Load trained model in this file.\n",
    "with open('Final_model.pkl', 'rb') as file:\n",
    "    loaded_model = pickle.load(file)\n"
   ]
  },
  {
   "cell_type": "code",
   "execution_count": 4,
   "id": "5a9562d0",
   "metadata": {},
   "outputs": [],
   "source": [
    "# Prediction\n",
    "\n",
    "def Prediction(cs, geo, age, tenure, bal, nop, cc, am, sal, gen):\n",
    "    input_data = [[cs, geo, age, tenure, bal, nop, cc, am, sal, gen]]\n",
    "    pred = loaded_model.predict(input_data)[0]\n",
    "    \n",
    "    if pred == 0:\n",
    "        return \"Not at Risk\"\n",
    "    else:\n",
    "        return \"At Risk\""
   ]
  },
  {
   "cell_type": "code",
   "execution_count": 6,
   "id": "a1eed8b8",
   "metadata": {},
   "outputs": [
    {
     "data": {
      "text/plain": [
       "'Not at Risk'"
      ]
     },
     "execution_count": 6,
     "metadata": {},
     "output_type": "execute_result"
    }
   ],
   "source": [
    "Prediction(560, 2255, 33, 3,0,1,0,0,2000,1)"
   ]
  },
  {
   "cell_type": "code",
   "execution_count": 11,
   "id": "fbfa0c8b",
   "metadata": {},
   "outputs": [
    {
     "data": {
      "text/plain": [
       "'Not at Risk'"
      ]
     },
     "execution_count": 11,
     "metadata": {},
     "output_type": "execute_result"
    }
   ],
   "source": [
    "Prediction(560, 2255, 90, 3,0,1,0,0,2000,1)"
   ]
  },
  {
   "cell_type": "code",
   "execution_count": 14,
   "id": "24bd8d9b",
   "metadata": {},
   "outputs": [],
   "source": [
    "## Interface\n",
    "\n",
    "iface = gr.Interface(fn=Prediction, \n",
    "                     inputs=[gr.Number(label='Enter the Credit Score:'),\n",
    "                                           gr.Dropdown([('France', 4522), ('Germany', 2255), \n",
    "                                                        ('Spain', 2223)], label='Geography'),\n",
    "                                            gr.Slider(minimum=18, maximum=100, step=1, label='Select Age'),\n",
    "                                            gr.Number('Enter Tenure'), gr.Number('Enter balance of acc'),\n",
    "                                            gr.Dropdown([1,2,3,4], label='Enter The Number of products with customers'),\n",
    "                                            gr.Dropdown([('yes', 1), (\"No\", 0)], label='Does Customer has credit card.'),\n",
    "                                            gr.Dropdown([('yes', 1), (\"No\", 0)], label='Is customer an active member'),\n",
    "                                            gr.Number(label=\"Salary of customer\"),\n",
    "                                            gr.Dropdown([('Male', 1), (\"Female\", 0)], label='Gender of customer')],\n",
    "                     outputs = gr.Textbox(label=\"Status\"),\n",
    "                     title = 'Hydrabad',\n",
    "                     description=\"Enter Details of customer\",\n",
    "                     allow_flagging = 'never')"
   ]
  },
  {
   "cell_type": "code",
   "execution_count": 18,
   "id": "81cc1473",
   "metadata": {},
   "outputs": [
    {
     "name": "stdout",
     "output_type": "stream",
     "text": [
      "Rerunning server... use `close()` to stop if you need to change `launch()` parameters.\n",
      "----\n",
      "Running on public URL: https://bff80777863cd47067.gradio.live\n",
      "\n",
      "This share link expires in 72 hours. For free permanent hosting and GPU upgrades, run `gradio deploy` from Terminal to deploy to Spaces (https://huggingface.co/spaces)\n"
     ]
    },
    {
     "data": {
      "text/html": [
       "<div><iframe src=\"https://bff80777863cd47067.gradio.live\" width=\"100%\" height=\"500\" allow=\"autoplay; camera; microphone; clipboard-read; clipboard-write;\" frameborder=\"0\" allowfullscreen></iframe></div>"
      ],
      "text/plain": [
       "<IPython.core.display.HTML object>"
      ]
     },
     "metadata": {},
     "output_type": "display_data"
    },
    {
     "data": {
      "text/plain": []
     },
     "execution_count": 18,
     "metadata": {},
     "output_type": "execute_result"
    }
   ],
   "source": [
    "iface.launch(share=True)"
   ]
  },
  {
   "cell_type": "code",
   "execution_count": null,
   "id": "1add83df",
   "metadata": {},
   "outputs": [],
   "source": []
  }
 ],
 "metadata": {
  "kernelspec": {
   "display_name": "Python 3 (ipykernel)",
   "language": "python",
   "name": "python3"
  },
  "language_info": {
   "codemirror_mode": {
    "name": "ipython",
    "version": 3
   },
   "file_extension": ".py",
   "mimetype": "text/x-python",
   "name": "python",
   "nbconvert_exporter": "python",
   "pygments_lexer": "ipython3",
   "version": "3.11.5"
  }
 },
 "nbformat": 4,
 "nbformat_minor": 5
}
